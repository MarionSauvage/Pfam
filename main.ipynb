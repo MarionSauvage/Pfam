{
  "nbformat": 4,
  "nbformat_minor": 0,
  "metadata": {
    "accelerator": "GPU",
    "colab": {
      "name": "main.ipynb",
      "provenance": [],
      "collapsed_sections": []
    },
    "kernelspec": {
      "display_name": "Python 3",
      "language": "python",
      "name": "python3"
    },
    "language_info": {
      "codemirror_mode": {
        "name": "ipython",
        "version": 3
      },
      "file_extension": ".py",
      "mimetype": "text/x-python",
      "name": "python",
      "nbconvert_exporter": "python",
      "pygments_lexer": "ipython3",
      "version": "3.8.6-final"
    }
  },
  "cells": [
    {
      "cell_type": "markdown",
      "metadata": {
        "id": "TWgWqkA4r7uo"
      },
      "source": [
        "Connect to Google Drive\r\n"
      ]
    },
    {
      "cell_type": "code",
      "metadata": {
        "colab": {
          "base_uri": "https://localhost:8080/"
        },
        "id": "LZG2t4sKQqnP",
        "outputId": "efadbbf7-23ec-4407-eaa9-98fc7e8b812e"
      },
      "source": [
        "from google.colab import drive\r\n",
        "drive.mount('/content/drive')"
      ],
      "execution_count": 1,
      "outputs": [
        {
          "output_type": "stream",
          "text": [
            "Mounted at /content/drive\n"
          ],
          "name": "stdout"
        }
      ]
    },
    {
      "cell_type": "code",
      "metadata": {
        "id": "Js98SD4HE5_g",
        "colab": {
          "base_uri": "https://localhost:8080/"
        },
        "outputId": "38aa91ba-ce70-460e-a27a-f366e7fd25a2"
      },
      "source": [
        "cd drive/MyDrive/instadeep/InstaDeep/"
      ],
      "execution_count": 2,
      "outputs": [
        {
          "output_type": "stream",
          "text": [
            "/content/drive/MyDrive/instadeep/InstaDeep\n"
          ],
          "name": "stdout"
        }
      ]
    },
    {
      "cell_type": "markdown",
      "metadata": {
        "id": "OCbYtc1sEw_s"
      },
      "source": [
        "Packages import"
      ]
    },
    {
      "cell_type": "code",
      "metadata": {
        "id": "fJvMbgICEw_v"
      },
      "source": [
        "from data import features,get_dataset\n",
        "from model import classifier\n",
        "import tqdm\n",
        "import warnings\n",
        "warnings.simplefilter(action='ignore', category=FutureWarning)"
      ],
      "execution_count": 3,
      "outputs": []
    },
    {
      "cell_type": "markdown",
      "metadata": {
        "id": "LQ1PwNGMEw_x"
      },
      "source": [
        "GPU"
      ]
    },
    {
      "cell_type": "code",
      "metadata": {
        "colab": {
          "base_uri": "https://localhost:8080/"
        },
        "id": "ViIJ1sRkEw_y",
        "outputId": "07e624d1-bd45-48ea-bfd2-91b2375157bb"
      },
      "source": [
        "%tensorflow_version 2.x\n",
        "import tensorflow as tf\n",
        "device_name = tf.test.gpu_device_name()\n",
        "if device_name != '/device:GPU:0':\n",
        "  raise SystemError('GPU device not found')\n",
        "print('Found GPU at: {}'.format(device_name))"
      ],
      "execution_count": 4,
      "outputs": [
        {
          "output_type": "stream",
          "text": [
            "Found GPU at: /device:GPU:0\n"
          ],
          "name": "stdout"
        }
      ]
    },
    {
      "cell_type": "markdown",
      "metadata": {
        "id": "HwZDKbk8Ew_0"
      },
      "source": [
        "Data processing"
      ]
    },
    {
      "cell_type": "code",
      "metadata": {
        "colab": {
          "base_uri": "https://localhost:8080/"
        },
        "id": "pbBLFIS-Ew_1",
        "outputId": "3c805702-29b5-421d-80de-7f132698e740"
      },
      "source": [
        "path=\"random_split/\"\n",
        "\n",
        "test,val,train =get_dataset.get_df(path)\n",
        "\n",
        "#Due to limitation of computing capacities, we will only consider the 1000 most important classes\n",
        "classes=features.get_classes_top1000(train)\n",
        "#apply those changes to train, test, val\n",
        "test=features.reduce_dataset_1000topclasses(test,classes)\n",
        "train=features.reduce_dataset_1000topclasses(train,classes)\n",
        "val=features.reduce_dataset_1000topclasses(val,classes)\n",
        "\n",
        "#Process inputs \n",
        "train_processed=features.process_dataset(train, classes)\n",
        "test_processed=features.process_dataset(test, classes)\n",
        "val_processed=features.process_dataset(val, classes)\n",
        "print(train_processed.shape)\n",
        "print(test_processed.shape)\n",
        "print(val_processed.shape)\n",
        "#Process labels\n",
        "y_train=features.process_labels(train,classes)\n",
        "y_test=features.process_labels(test,classes)\n",
        "y_val=features.process_labels(val,classes)\n",
        "print(y_train.shape)\n",
        "print(y_test.shape)\n",
        "print(y_val.shape)"
      ],
      "execution_count": 5,
      "outputs": [
        {
          "output_type": "stream",
          "text": [
            "(439493, 100)\n",
            "(54378, 100)\n",
            "(54378, 100)\n",
            "(439493, 1000)\n",
            "(54378, 1000)\n",
            "(54378, 1000)\n"
          ],
          "name": "stdout"
        }
      ]
    },
    {
      "cell_type": "markdown",
      "metadata": {
        "id": "7CmlM84PEw_2"
      },
      "source": [
        "Simple model : using LSTM"
      ]
    },
    {
      "cell_type": "code",
      "metadata": {
        "colab": {
          "base_uri": "https://localhost:8080/"
        },
        "id": "hccxbKTfEw_3",
        "outputId": "a51780e9-caa0-4cea-9158-1306f62b1337"
      },
      "source": [
        "model=classifier.build_model()\n",
        "print(model.summary())"
      ],
      "execution_count": 6,
      "outputs": [
        {
          "output_type": "stream",
          "text": [
            "Model: \"sequential\"\n",
            "_________________________________________________________________\n",
            "Layer (type)                 Output Shape              Param #   \n",
            "=================================================================\n",
            "embedding (Embedding)        (None, 100, 100)          2100      \n",
            "_________________________________________________________________\n",
            "bidirectional (Bidirectional (None, 200)               160800    \n",
            "_________________________________________________________________\n",
            "dropout (Dropout)            (None, 200)               0         \n",
            "_________________________________________________________________\n",
            "dense (Dense)                (None, 1000)              201000    \n",
            "=================================================================\n",
            "Total params: 363,900\n",
            "Trainable params: 363,900\n",
            "Non-trainable params: 0\n",
            "_________________________________________________________________\n",
            "None\n"
          ],
          "name": "stdout"
        }
      ]
    },
    {
      "cell_type": "code",
      "metadata": {
        "colab": {
          "base_uri": "https://localhost:8080/"
        },
        "id": "8DXDw0qrEw_5",
        "outputId": "5e20b8f5-7f33-4346-cb12-e5a57135781f"
      },
      "source": [
        "history=classifier.train_model(model,train_processed,y_train,val_processed,y_val,epochs=50)\n"
      ],
      "execution_count": 7,
      "outputs": [
        {
          "output_type": "stream",
          "text": [
            "Epoch 1/50\n",
            "1717/1717 [==============================] - 57s 28ms/step - loss: 7.3651 - accuracy: 0.0388 - val_loss: 3.8523 - val_accuracy: 0.2815\n",
            "Epoch 2/50\n",
            "1717/1717 [==============================] - 47s 28ms/step - loss: 3.5390 - accuracy: 0.3332 - val_loss: 2.0374 - val_accuracy: 0.6770\n",
            "Epoch 3/50\n",
            "1717/1717 [==============================] - 47s 27ms/step - loss: 2.1719 - accuracy: 0.6129 - val_loss: 1.3491 - val_accuracy: 0.8110\n",
            "Epoch 4/50\n",
            "1717/1717 [==============================] - 47s 28ms/step - loss: 1.6131 - accuracy: 0.7241 - val_loss: 1.0533 - val_accuracy: 0.8629\n",
            "Epoch 5/50\n",
            "1717/1717 [==============================] - 47s 27ms/step - loss: 1.3350 - accuracy: 0.7786 - val_loss: 0.8715 - val_accuracy: 0.8920\n",
            "Epoch 6/50\n",
            "1717/1717 [==============================] - 47s 27ms/step - loss: 1.1747 - accuracy: 0.8085 - val_loss: 0.7513 - val_accuracy: 0.9116\n",
            "Epoch 7/50\n",
            "1717/1717 [==============================] - 47s 27ms/step - loss: 1.1140 - accuracy: 0.8187 - val_loss: 0.6856 - val_accuracy: 0.9240\n",
            "Epoch 8/50\n",
            "1717/1717 [==============================] - 47s 27ms/step - loss: 0.9892 - accuracy: 0.8424 - val_loss: 0.6445 - val_accuracy: 0.9306\n",
            "Epoch 9/50\n",
            "1717/1717 [==============================] - 47s 27ms/step - loss: 0.9328 - accuracy: 0.8517 - val_loss: 0.5949 - val_accuracy: 0.9395\n",
            "Epoch 10/50\n",
            "1717/1717 [==============================] - 47s 27ms/step - loss: 0.9143 - accuracy: 0.8562 - val_loss: 0.5712 - val_accuracy: 0.9431\n",
            "Epoch 11/50\n",
            "1717/1717 [==============================] - 47s 27ms/step - loss: 0.8564 - accuracy: 0.8664 - val_loss: 0.5521 - val_accuracy: 0.9454\n",
            "Epoch 12/50\n",
            "1717/1717 [==============================] - 47s 27ms/step - loss: 0.8232 - accuracy: 0.8723 - val_loss: 0.5391 - val_accuracy: 0.9480\n",
            "Epoch 13/50\n",
            "1717/1717 [==============================] - 47s 27ms/step - loss: 0.8109 - accuracy: 0.8752 - val_loss: 0.5243 - val_accuracy: 0.9496\n",
            "Epoch 14/50\n",
            "1717/1717 [==============================] - 47s 27ms/step - loss: 0.7928 - accuracy: 0.8782 - val_loss: 0.5081 - val_accuracy: 0.9536\n",
            "Epoch 15/50\n",
            "1717/1717 [==============================] - 47s 27ms/step - loss: 0.7726 - accuracy: 0.8816 - val_loss: 0.5095 - val_accuracy: 0.9518\n",
            "Epoch 16/50\n",
            "1717/1717 [==============================] - 47s 27ms/step - loss: 0.7651 - accuracy: 0.8825 - val_loss: 0.5036 - val_accuracy: 0.9544\n",
            "Epoch 17/50\n",
            "1717/1717 [==============================] - 47s 27ms/step - loss: 0.7543 - accuracy: 0.8854 - val_loss: 0.4867 - val_accuracy: 0.9564\n",
            "Epoch 18/50\n",
            "1717/1717 [==============================] - 47s 27ms/step - loss: 0.7483 - accuracy: 0.8862 - val_loss: 0.4768 - val_accuracy: 0.9590\n",
            "Epoch 19/50\n",
            "1717/1717 [==============================] - 47s 27ms/step - loss: 0.7347 - accuracy: 0.8895 - val_loss: 0.4710 - val_accuracy: 0.9597\n",
            "Epoch 20/50\n",
            "1717/1717 [==============================] - 47s 27ms/step - loss: 0.7254 - accuracy: 0.8906 - val_loss: 0.4588 - val_accuracy: 0.9635\n",
            "Epoch 21/50\n",
            "1717/1717 [==============================] - 47s 27ms/step - loss: 0.7217 - accuracy: 0.8915 - val_loss: 0.4548 - val_accuracy: 0.9632\n",
            "Epoch 22/50\n",
            "1717/1717 [==============================] - 47s 27ms/step - loss: 0.7127 - accuracy: 0.8920 - val_loss: 0.4580 - val_accuracy: 0.9627\n",
            "Epoch 23/50\n",
            "1717/1717 [==============================] - 47s 27ms/step - loss: 0.7094 - accuracy: 0.8937 - val_loss: 0.4506 - val_accuracy: 0.9626\n",
            "Epoch 24/50\n",
            "1717/1717 [==============================] - 47s 27ms/step - loss: 0.7028 - accuracy: 0.8951 - val_loss: 0.4490 - val_accuracy: 0.9641\n",
            "Epoch 25/50\n",
            "1717/1717 [==============================] - 47s 27ms/step - loss: 0.6953 - accuracy: 0.8970 - val_loss: 0.4570 - val_accuracy: 0.9615\n",
            "Epoch 26/50\n",
            "1717/1717 [==============================] - 47s 27ms/step - loss: 0.6899 - accuracy: 0.8985 - val_loss: 0.4483 - val_accuracy: 0.9635\n",
            "Epoch 27/50\n",
            "1717/1717 [==============================] - 47s 27ms/step - loss: 0.6834 - accuracy: 0.8994 - val_loss: 0.4422 - val_accuracy: 0.9647\n",
            "Epoch 28/50\n",
            "1717/1717 [==============================] - 47s 27ms/step - loss: 0.6790 - accuracy: 0.8997 - val_loss: 0.4386 - val_accuracy: 0.9651\n",
            "Epoch 29/50\n",
            "1717/1717 [==============================] - 47s 27ms/step - loss: 0.6770 - accuracy: 0.9006 - val_loss: 0.4259 - val_accuracy: 0.9677\n",
            "Epoch 30/50\n",
            "1717/1717 [==============================] - 47s 27ms/step - loss: 0.6727 - accuracy: 0.9010 - val_loss: 0.4326 - val_accuracy: 0.9663\n",
            "Epoch 31/50\n",
            "1717/1717 [==============================] - 47s 27ms/step - loss: 0.6695 - accuracy: 0.9016 - val_loss: 0.4260 - val_accuracy: 0.9676\n",
            "Epoch 32/50\n",
            "1717/1717 [==============================] - 47s 27ms/step - loss: 0.6594 - accuracy: 0.9039 - val_loss: 0.4329 - val_accuracy: 0.9660\n",
            "Epoch 33/50\n",
            "1717/1717 [==============================] - 47s 27ms/step - loss: 0.6623 - accuracy: 0.9033 - val_loss: 0.4241 - val_accuracy: 0.9671\n",
            "Epoch 34/50\n",
            "1717/1717 [==============================] - 47s 27ms/step - loss: 0.6606 - accuracy: 0.9036 - val_loss: 0.4194 - val_accuracy: 0.9691\n",
            "Epoch 35/50\n",
            "1717/1717 [==============================] - 47s 27ms/step - loss: 0.6553 - accuracy: 0.9051 - val_loss: 0.4209 - val_accuracy: 0.9678\n",
            "Epoch 36/50\n",
            "1717/1717 [==============================] - 47s 27ms/step - loss: 0.6518 - accuracy: 0.9047 - val_loss: 0.4137 - val_accuracy: 0.9689\n",
            "Epoch 37/50\n",
            "1717/1717 [==============================] - 47s 27ms/step - loss: 0.6441 - accuracy: 0.9066 - val_loss: 0.4278 - val_accuracy: 0.9661\n",
            "Epoch 38/50\n",
            "1717/1717 [==============================] - 47s 27ms/step - loss: 0.6470 - accuracy: 0.9059 - val_loss: 0.4101 - val_accuracy: 0.9693\n",
            "Epoch 39/50\n",
            "1717/1717 [==============================] - 47s 27ms/step - loss: 0.6453 - accuracy: 0.9063 - val_loss: 0.4087 - val_accuracy: 0.9704\n",
            "Epoch 40/50\n",
            "1717/1717 [==============================] - 47s 27ms/step - loss: 0.6400 - accuracy: 0.9072 - val_loss: 0.4065 - val_accuracy: 0.9707\n",
            "Epoch 41/50\n",
            "1717/1717 [==============================] - 47s 27ms/step - loss: 0.6386 - accuracy: 0.9072 - val_loss: 0.4084 - val_accuracy: 0.9703\n",
            "Epoch 42/50\n",
            "1717/1717 [==============================] - 47s 27ms/step - loss: 0.6356 - accuracy: 0.9077 - val_loss: 0.4065 - val_accuracy: 0.9699\n",
            "Epoch 43/50\n",
            "1717/1717 [==============================] - 47s 27ms/step - loss: 0.6329 - accuracy: 0.9082 - val_loss: 0.4065 - val_accuracy: 0.9697\n",
            "Epoch 44/50\n",
            "1717/1717 [==============================] - 47s 27ms/step - loss: 0.6260 - accuracy: 0.9100 - val_loss: 0.4029 - val_accuracy: 0.9704\n",
            "Epoch 45/50\n",
            "1717/1717 [==============================] - 47s 27ms/step - loss: 0.6192 - accuracy: 0.9109 - val_loss: 0.4017 - val_accuracy: 0.9706\n",
            "Epoch 46/50\n",
            "1717/1717 [==============================] - 47s 27ms/step - loss: 0.6186 - accuracy: 0.9112 - val_loss: 0.3956 - val_accuracy: 0.9715\n",
            "Epoch 47/50\n",
            "1717/1717 [==============================] - 47s 27ms/step - loss: 0.6176 - accuracy: 0.9110 - val_loss: 0.3944 - val_accuracy: 0.9715\n",
            "Epoch 48/50\n",
            "1717/1717 [==============================] - 47s 27ms/step - loss: 0.6142 - accuracy: 0.9125 - val_loss: 0.4006 - val_accuracy: 0.9698\n",
            "Epoch 49/50\n",
            "1717/1717 [==============================] - 47s 27ms/step - loss: 0.6130 - accuracy: 0.9120 - val_loss: 0.3930 - val_accuracy: 0.9723\n",
            "Epoch 50/50\n",
            "1717/1717 [==============================] - 47s 28ms/step - loss: 0.6104 - accuracy: 0.9127 - val_loss: 0.3931 - val_accuracy: 0.9730\n"
          ],
          "name": "stdout"
        }
      ]
    },
    {
      "cell_type": "code",
      "metadata": {
        "id": "d0mgiGzIJEWm",
        "colab": {
          "base_uri": "https://localhost:8080/",
          "height": 336
        },
        "outputId": "7c453eb2-6890-4b9e-a96a-3446a9ec93a3"
      },
      "source": [
        "classifier.plot_accuracy_train_val(history)"
      ],
      "execution_count": 8,
      "outputs": [
        {
          "output_type": "display_data",
          "data": {
            "image/png": "[encoded data removed]",
            "text/plain": [
              "<Figure size 864x360 with 2 Axes>"
            ]
          },
          "metadata": {
            "tags": [],
            "needs_background": "light"
          }
        }
      ]
    },
    {
      "cell_type": "code",
      "metadata": {
        "id": "XKIieuKVPz1r",
        "colab": {
          "base_uri": "https://localhost:8080/"
        },
        "outputId": "86588567-f155-4919-b2bf-eda3c0618099"
      },
      "source": [
        "result=model.evaluate(test_processed,y_test)"
      ],
      "execution_count": 9,
      "outputs": [
        {
          "output_type": "stream",
          "text": [
            "1700/1700 [==============================] - 11s 6ms/step - loss: 0.3956 - accuracy: 0.9720\n"
          ],
          "name": "stdout"
        }
      ]
    },
    {
      "cell_type": "markdown",
      "metadata": {
        "id": "B8C-wSvCEw_6"
      },
      "source": [
        "ProtCNN"
      ]
    },
    {
      "cell_type": "code",
      "metadata": {
        "id": "7OdLl8ChEw_8"
      },
      "source": [
        "#additional preprocessing \n",
        "train_2=features.additional_process(train_processed)\n",
        "val_2=features.additional_process(val_processed)\n",
        "test_2=features.additional_process(test_processed)\n"
      ],
      "execution_count": 10,
      "outputs": []
    },
    {
      "cell_type": "code",
      "metadata": {
        "id": "WdnziufEEw__",
        "colab": {
          "base_uri": "https://localhost:8080/"
        },
        "outputId": "be4f79ed-011b-4e9c-d7fa-1f091cc5bb49"
      },
      "source": [
        "model2=classifier.protccn_model(input_shape=train_2.shape)\n",
        "print(model2.summary())"
      ],
      "execution_count": 11,
      "outputs": [
        {
          "output_type": "stream",
          "text": [
            "Model: \"sequential_1\"\n",
            "_________________________________________________________________\n",
            "Layer (type)                 Output Shape              Param #   \n",
            "=================================================================\n",
            "conv1d (Conv1D)              (439493, 100, 128)        2816      \n",
            "_________________________________________________________________\n",
            "sequential_2 (Sequential)    (439493, 100, 128)        66816     \n",
            "_________________________________________________________________\n",
            "sequential_3 (Sequential)    (439493, 100, 128)        66816     \n",
            "_________________________________________________________________\n",
            "max_pooling1d (MaxPooling1D) (439493, 33, 128)         0         \n",
            "_________________________________________________________________\n",
            "dropout_1 (Dropout)          (439493, 33, 128)         0         \n",
            "_________________________________________________________________\n",
            "flatten (Flatten)            (439493, 4224)            0         \n",
            "_________________________________________________________________\n",
            "dense_1 (Dense)              (439493, 1000)            4225000   \n",
            "=================================================================\n",
            "Total params: 4,361,448\n",
            "Trainable params: 4,360,424\n",
            "Non-trainable params: 1,024\n",
            "_________________________________________________________________\n",
            "None\n"
          ],
          "name": "stdout"
        }
      ]
    },
    {
      "cell_type": "code",
      "metadata": {
        "id": "vKwNPgKDExAA",
        "colab": {
          "base_uri": "https://localhost:8080/"
        },
        "outputId": "a2345e5b-9921-4679-c103-960dbb313ea7"
      },
      "source": [
        "history2=classifier.train_model(model2,train_2,y_train,val_2,y_val,epochs=50,model_name=\"protCNN\")"
      ],
      "execution_count": 12,
      "outputs": [
        {
          "output_type": "stream",
          "text": [
            "Epoch 1/50\n",
            "1717/1717 [==============================] - 54s 30ms/step - loss: 1.6644 - accuracy: 0.8268 - val_loss: 0.4197 - val_accuracy: 0.9856\n",
            "Epoch 2/50\n",
            "1717/1717 [==============================] - 50s 29ms/step - loss: 0.3863 - accuracy: 0.9838 - val_loss: 0.4292 - val_accuracy: 0.9838\n",
            "Epoch 3/50\n",
            "1717/1717 [==============================] - 50s 29ms/step - loss: 0.4043 - accuracy: 0.9839 - val_loss: 0.4313 - val_accuracy: 0.9849\n",
            "Epoch 4/50\n",
            "1717/1717 [==============================] - 50s 29ms/step - loss: 0.4028 - accuracy: 0.9847 - val_loss: 0.4384 - val_accuracy: 0.9833\n",
            "Epoch 5/50\n",
            "1717/1717 [==============================] - 50s 29ms/step - loss: 0.3924 - accuracy: 0.9860 - val_loss: 0.4246 - val_accuracy: 0.9857\n",
            "Epoch 6/50\n",
            "1717/1717 [==============================] - 50s 29ms/step - loss: 0.3894 - accuracy: 0.9859 - val_loss: 0.4171 - val_accuracy: 0.9854\n",
            "Epoch 7/50\n",
            "1717/1717 [==============================] - 50s 29ms/step - loss: 0.3801 - accuracy: 0.9864 - val_loss: 0.4066 - val_accuracy: 0.9870\n",
            "Epoch 8/50\n",
            "1717/1717 [==============================] - 50s 29ms/step - loss: 0.3730 - accuracy: 0.9871 - val_loss: 0.3967 - val_accuracy: 0.9870\n",
            "Epoch 9/50\n",
            "1717/1717 [==============================] - 49s 29ms/step - loss: 0.3684 - accuracy: 0.9869 - val_loss: 0.3950 - val_accuracy: 0.9876\n",
            "Epoch 10/50\n",
            "1717/1717 [==============================] - 49s 29ms/step - loss: 0.3644 - accuracy: 0.9878 - val_loss: 0.3922 - val_accuracy: 0.9878\n",
            "Epoch 11/50\n",
            "1717/1717 [==============================] - 49s 29ms/step - loss: 0.3647 - accuracy: 0.9871 - val_loss: 0.3944 - val_accuracy: 0.9862\n",
            "Epoch 12/50\n",
            "1717/1717 [==============================] - 49s 29ms/step - loss: 0.3601 - accuracy: 0.9877 - val_loss: 0.3838 - val_accuracy: 0.9876\n",
            "Epoch 13/50\n",
            "1717/1717 [==============================] - 49s 29ms/step - loss: 0.3578 - accuracy: 0.9872 - val_loss: 0.3838 - val_accuracy: 0.9880\n",
            "Epoch 14/50\n",
            "1717/1717 [==============================] - 49s 29ms/step - loss: 0.3530 - accuracy: 0.9881 - val_loss: 0.3857 - val_accuracy: 0.9880\n",
            "Epoch 15/50\n",
            "1717/1717 [==============================] - 49s 29ms/step - loss: 0.3543 - accuracy: 0.9878 - val_loss: 0.3780 - val_accuracy: 0.9886\n",
            "Epoch 16/50\n",
            "1717/1717 [==============================] - 49s 29ms/step - loss: 0.3472 - accuracy: 0.9888 - val_loss: 0.3833 - val_accuracy: 0.9873\n",
            "Epoch 17/50\n",
            "1717/1717 [==============================] - 49s 29ms/step - loss: 0.3510 - accuracy: 0.9882 - val_loss: 0.3738 - val_accuracy: 0.9888\n",
            "Epoch 18/50\n",
            "1717/1717 [==============================] - 49s 29ms/step - loss: 0.3450 - accuracy: 0.9886 - val_loss: 0.3876 - val_accuracy: 0.9872\n",
            "Epoch 19/50\n",
            "1717/1717 [==============================] - 49s 29ms/step - loss: 0.3513 - accuracy: 0.9882 - val_loss: 0.3872 - val_accuracy: 0.9867\n",
            "Epoch 20/50\n",
            "1717/1717 [==============================] - 49s 29ms/step - loss: 0.3500 - accuracy: 0.9882 - val_loss: 0.3801 - val_accuracy: 0.9885\n",
            "Epoch 21/50\n",
            "1717/1717 [==============================] - 49s 29ms/step - loss: 0.3487 - accuracy: 0.9885 - val_loss: 0.3754 - val_accuracy: 0.9878\n",
            "Epoch 22/50\n",
            "1717/1717 [==============================] - 49s 29ms/step - loss: 0.3454 - accuracy: 0.9884 - val_loss: 0.3799 - val_accuracy: 0.9878\n",
            "Epoch 00022: early stopping\n"
          ],
          "name": "stdout"
        }
      ]
    },
    {
      "cell_type": "code",
      "metadata": {
        "id": "hwbUfCcxExAB",
        "colab": {
          "base_uri": "https://localhost:8080/",
          "height": 336
        },
        "outputId": "2d04e611-fae2-4404-c7f8-3c9a97ae1df2"
      },
      "source": [
        "classifier.plot_accuracy_train_val(history2)"
      ],
      "execution_count": 13,
      "outputs": [
        {
          "output_type": "display_data",
          "data": {
            "image/png": "[encoded data removed]",
            "text/plain": [
              "<Figure size 864x360 with 2 Axes>"
            ]
          },
          "metadata": {
            "tags": [],
            "needs_background": "light"
          }
        }
      ]
    },
    {
      "cell_type": "code",
      "metadata": {
        "id": "E9riZmHGbR8T",
        "colab": {
          "base_uri": "https://localhost:8080/"
        },
        "outputId": "ce02ee50-a641-49cc-a6ac-1cb7d3c4c0de"
      },
      "source": [
        "result=model2.evaluate(test_2,y_test)"
      ],
      "execution_count": 14,
      "outputs": [
        {
          "output_type": "stream",
          "text": [
            "1700/1700 [==============================] - 6s 3ms/step - loss: 0.3820 - accuracy: 0.9872\n"
          ],
          "name": "stdout"
        }
      ]
    }
  ]
}