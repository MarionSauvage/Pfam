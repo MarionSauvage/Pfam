{
  "nbformat": 4,
  "nbformat_minor": 0,
  "metadata": {
    "language_info": {
      "codemirror_mode": {
        "name": "ipython",
        "version": 3
      },
      "file_extension": ".py",
      "mimetype": "text/x-python",
      "name": "python",
      "nbconvert_exporter": "python",
      "pygments_lexer": "ipython3",
      "version": "3.8.6-final"
    },
    "orig_nbformat": 2,
    "kernelspec": {
      "name": "python3",
      "display_name": "Python 3",
      "language": "python"
    },
    "colab": {
      "name": "main.ipynb",
      "provenance": [],
      "collapsed_sections": []
    },
    "accelerator": "GPU"
  },
  "cells": [
    {
      "cell_type": "markdown",
      "metadata": {
        "id": "TWgWqkA4r7uo"
      },
      "source": [
        "Connect to Google Drive\r\n"
      ]
    },
    {
      "cell_type": "code",
      "metadata": {
        "colab": {
          "base_uri": "https://localhost:8080/"
        },
        "id": "yhf8JIf3Ezft",
        "outputId": "995e6726-45c3-468a-c1e7-30e5d58bf315"
      },
      "source": [
        "from google.colab import drive\r\n",
        "drive.mount('/content/drive')"
      ],
      "execution_count": 1,
      "outputs": [
        {
          "output_type": "stream",
          "text": [
            "Drive already mounted at /content/drive; to attempt to forcibly remount, call drive.mount(\"/content/drive\", force_remount=True).\n"
          ],
          "name": "stdout"
        }
      ]
    },
    {
      "cell_type": "code",
      "metadata": {
        "colab": {
          "base_uri": "https://localhost:8080/"
        },
        "id": "Js98SD4HE5_g",
        "outputId": "7dd9ab60-2bd5-4bf5-c2a2-679a732315eb"
      },
      "source": [
        "cd drive/MyDrive/instadeep/InstaDeep/"
      ],
      "execution_count": 2,
      "outputs": [
        {
          "output_type": "stream",
          "text": [
            "/content/drive/MyDrive/instadeep/InstaDeep\n"
          ],
          "name": "stdout"
        }
      ]
    },
    {
      "cell_type": "markdown",
      "metadata": {
        "id": "OCbYtc1sEw_s"
      },
      "source": [
        "Packages import"
      ]
    },
    {
      "cell_type": "code",
      "metadata": {
        "id": "fJvMbgICEw_v"
      },
      "source": [
        "from data import get_dataset\n",
        "from model import features,classifier,metrics\n",
        "import tqdm"
      ],
      "execution_count": 3,
      "outputs": []
    },
    {
      "cell_type": "markdown",
      "metadata": {
        "id": "LQ1PwNGMEw_x"
      },
      "source": [
        "GPU"
      ]
    },
    {
      "cell_type": "code",
      "metadata": {
        "colab": {
          "base_uri": "https://localhost:8080/"
        },
        "id": "ViIJ1sRkEw_y",
        "outputId": "ec56906c-bc9d-42c6-b95b-e6cb29e2d821"
      },
      "source": [
        "%tensorflow_version 2.x\n",
        "import tensorflow as tf\n",
        "device_name = tf.test.gpu_device_name()\n",
        "if device_name != '/device:GPU:0':\n",
        "  raise SystemError('GPU device not found')\n",
        "print('Found GPU at: {}'.format(device_name))"
      ],
      "execution_count": 4,
      "outputs": [
        {
          "output_type": "stream",
          "text": [
            "Found GPU at: /device:GPU:0\n"
          ],
          "name": "stdout"
        }
      ]
    },
    {
      "cell_type": "markdown",
      "metadata": {
        "id": "HwZDKbk8Ew_0"
      },
      "source": [
        "Data processing"
      ]
    },
    {
      "cell_type": "code",
      "metadata": {
        "colab": {
          "base_uri": "https://localhost:8080/"
        },
        "id": "pbBLFIS-Ew_1",
        "outputId": "a62b42fd-0f02-4b13-81c7-4b70a37e830b"
      },
      "source": [
        "path=\"random_split/\"\n",
        "\n",
        "test,val,train =get_dataset.get_df(path)\n",
        "\n",
        "#Due to limitation of computing capacities, we will only consider the 1000 most important classes\n",
        "classes=features.get_classes_top1000(train)\n",
        "#apply those changes to train, test, val\n",
        "test=features.reduce_dataset_1000topclasses(test,classes)\n",
        "train=features.reduce_dataset_1000topclasses(train,classes)\n",
        "val=features.reduce_dataset_1000topclasses(val,classes)\n",
        "\n",
        "#Process inputs \n",
        "train_processed=features.process_dataset(train, classes)\n",
        "test_processed=features.process_dataset(test, classes)\n",
        "val_processed=features.process_dataset(val, classes)\n",
        "print(train_processed.shape)\n",
        "print(test_processed.shape)\n",
        "print(val_processed.shape)\n",
        "#Process labels\n",
        "y_train=features.process_labels(train,classes)\n",
        "y_test=features.process_labels(test,classes)\n",
        "y_val=features.process_labels(val,classes)\n",
        "print(y_train.shape)\n",
        "print(y_test.shape)\n",
        "print(y_val.shape)"
      ],
      "execution_count": 5,
      "outputs": [
        {
          "output_type": "stream",
          "text": [
            "(439493, 100)\n",
            "(54378, 100)\n",
            "(54378, 100)\n",
            "(439493, 1000)\n",
            "(54378, 1000)\n",
            "(54378, 1000)\n"
          ],
          "name": "stdout"
        }
      ]
    },
    {
      "cell_type": "markdown",
      "metadata": {
        "id": "7CmlM84PEw_2"
      },
      "source": [
        "Simple model : using LSTM"
      ]
    },
    {
      "cell_type": "code",
      "metadata": {
        "colab": {
          "base_uri": "https://localhost:8080/"
        },
        "id": "hccxbKTfEw_3",
        "outputId": "add2838e-38eb-4845-91e1-6f17847e798b"
      },
      "source": [
        "model=classifier.build_model()\n",
        "print(model.summary())"
      ],
      "execution_count": 6,
      "outputs": [
        {
          "output_type": "stream",
          "text": [
            "Model: \"sequential\"\n",
            "_________________________________________________________________\n",
            "Layer (type)                 Output Shape              Param #   \n",
            "=================================================================\n",
            "embedding (Embedding)        (None, 100, 100)          2100      \n",
            "_________________________________________________________________\n",
            "bidirectional (Bidirectional (None, 128)               84480     \n",
            "_________________________________________________________________\n",
            "dropout (Dropout)            (None, 128)               0         \n",
            "_________________________________________________________________\n",
            "dense (Dense)                (None, 1000)              129000    \n",
            "=================================================================\n",
            "Total params: 215,580\n",
            "Trainable params: 215,580\n",
            "Non-trainable params: 0\n",
            "_________________________________________________________________\n",
            "None\n"
          ],
          "name": "stdout"
        }
      ]
    },
    {
      "cell_type": "code",
      "metadata": {
        "colab": {
          "base_uri": "https://localhost:8080/"
        },
        "id": "8DXDw0qrEw_5",
        "outputId": "3a30977e-87cb-4af2-ef93-df5b202d01d7"
      },
      "source": [
        "history=classifier.train_model(model,train_processed,y_train,val_processed,y_val,epochs=50)\n"
      ],
      "execution_count": 7,
      "outputs": [
        {
          "output_type": "stream",
          "text": [
            "Epoch 1/50\n",
            "1717/1717 [==============================] - 42s 23ms/step - loss: 7.0284 - accuracy: 0.0356 - val_loss: 3.8091 - val_accuracy: 0.2963\n",
            "Epoch 2/50\n",
            "1717/1717 [==============================] - 38s 22ms/step - loss: 3.4350 - accuracy: 0.3581 - val_loss: 2.0863 - val_accuracy: 0.6539\n",
            "Epoch 3/50\n",
            "1717/1717 [==============================] - 38s 22ms/step - loss: 2.1159 - accuracy: 0.6228 - val_loss: 1.4363 - val_accuracy: 0.7772\n",
            "Epoch 4/50\n",
            "1717/1717 [==============================] - 38s 22ms/step - loss: 1.5625 - accuracy: 0.7285 - val_loss: 1.0852 - val_accuracy: 0.8430\n",
            "Epoch 5/50\n",
            "1717/1717 [==============================] - 38s 22ms/step - loss: 1.2767 - accuracy: 0.7803 - val_loss: 0.9014 - val_accuracy: 0.8721\n",
            "Epoch 6/50\n",
            "1717/1717 [==============================] - 38s 22ms/step - loss: 1.1140 - accuracy: 0.8099 - val_loss: 0.7799 - val_accuracy: 0.8943\n",
            "Epoch 7/50\n",
            "1717/1717 [==============================] - 38s 22ms/step - loss: 0.9940 - accuracy: 0.8325 - val_loss: 0.6848 - val_accuracy: 0.9095\n",
            "Epoch 8/50\n",
            "1717/1717 [==============================] - 38s 22ms/step - loss: 0.9112 - accuracy: 0.8470 - val_loss: 0.6329 - val_accuracy: 0.9192\n",
            "Epoch 9/50\n",
            "1717/1717 [==============================] - 38s 22ms/step - loss: 0.8486 - accuracy: 0.8584 - val_loss: 0.6344 - val_accuracy: 0.9130\n",
            "Epoch 00009: early stopping\n"
          ],
          "name": "stdout"
        }
      ]
    },
    {
      "cell_type": "code",
      "metadata": {
        "colab": {
          "base_uri": "https://localhost:8080/",
          "height": 503
        },
        "id": "d0mgiGzIJEWm",
        "outputId": "7ef92344-78d0-4870-b8ac-0e018829097c"
      },
      "source": [
        "classifier.plot_accuracy_train_val(history)"
      ],
      "execution_count": 8,
      "outputs": [
        {
          "output_type": "stream",
          "text": [
            "/usr/local/lib/python3.6/dist-packages/seaborn/_decorators.py:43: FutureWarning: Pass the following variables as keyword args: x, y. From version 0.12, the only valid positional argument will be `data`, and passing other arguments without an explicit keyword will result in an error or misinterpretation.\n",
            "  FutureWarning\n",
            "/usr/local/lib/python3.6/dist-packages/seaborn/_decorators.py:43: FutureWarning: Pass the following variables as keyword args: x, y. From version 0.12, the only valid positional argument will be `data`, and passing other arguments without an explicit keyword will result in an error or misinterpretation.\n",
            "  FutureWarning\n",
            "/usr/local/lib/python3.6/dist-packages/seaborn/_decorators.py:43: FutureWarning: Pass the following variables as keyword args: x, y. From version 0.12, the only valid positional argument will be `data`, and passing other arguments without an explicit keyword will result in an error or misinterpretation.\n",
            "  FutureWarning\n",
            "/usr/local/lib/python3.6/dist-packages/seaborn/_decorators.py:43: FutureWarning: Pass the following variables as keyword args: x, y. From version 0.12, the only valid positional argument will be `data`, and passing other arguments without an explicit keyword will result in an error or misinterpretation.\n",
            "  FutureWarning\n"
          ],
          "name": "stderr"
        },
        {
          "output_type": "display_data",
          "data": {
            "image/png": "[encoded data removed]",
            "text/plain": [
              "<Figure size 864x360 with 2 Axes>"
            ]
          },
          "metadata": {
            "tags": [],
            "needs_background": "light"
          }
        }
      ]
    },
    {
      "cell_type": "markdown",
      "metadata": {
        "id": "B8C-wSvCEw_6"
      },
      "source": [
        "ProtCNN"
      ]
    },
    {
      "cell_type": "code",
      "metadata": {
        "id": "7OdLl8ChEw_8"
      },
      "source": [
        "#additional preprocessing \n",
        "train_2=features.additional_process(train_processed)\n",
        "val_2=features.additional_process(val_processed)\n",
        "test_2=features.additional_process(test_processed)\n"
      ],
      "execution_count": 6,
      "outputs": []
    },
    {
      "cell_type": "code",
      "metadata": {
        "colab": {
          "base_uri": "https://localhost:8080/"
        },
        "id": "WdnziufEEw__",
        "outputId": "9f8566bf-3051-4066-80f0-066cbedb7ddf"
      },
      "source": [
        "model2=classifier.protccn_model(input_shape=train_2.shape)\n",
        "print(model2.summary())"
      ],
      "execution_count": 7,
      "outputs": [
        {
          "output_type": "stream",
          "text": [
            "Model: \"sequential\"\n",
            "_________________________________________________________________\n",
            "Layer (type)                 Output Shape              Param #   \n",
            "=================================================================\n",
            "conv1d (Conv1D)              (439493, 100, 128)        2816      \n",
            "_________________________________________________________________\n",
            "sequential_1 (Sequential)    (439493, 100, 128)        66816     \n",
            "_________________________________________________________________\n",
            "sequential_2 (Sequential)    (439493, 100, 128)        66816     \n",
            "_________________________________________________________________\n",
            "max_pooling1d (MaxPooling1D) (439493, 33, 128)         0         \n",
            "_________________________________________________________________\n",
            "dropout (Dropout)            (439493, 33, 128)         0         \n",
            "_________________________________________________________________\n",
            "flatten (Flatten)            (439493, 4224)            0         \n",
            "_________________________________________________________________\n",
            "dense (Dense)                (439493, 1000)            4225000   \n",
            "=================================================================\n",
            "Total params: 4,361,448\n",
            "Trainable params: 4,360,424\n",
            "Non-trainable params: 1,024\n",
            "_________________________________________________________________\n",
            "None\n"
          ],
          "name": "stdout"
        }
      ]
    },
    {
      "cell_type": "code",
      "metadata": {
        "colab": {
          "base_uri": "https://localhost:8080/"
        },
        "id": "vKwNPgKDExAA",
        "outputId": "16fd0564-7ce7-44f0-a5d7-0c28207f5007"
      },
      "source": [
        "history2=classifier.train_model(model2,train_2,y_train,val_2,y_val,epochs=50,model_name=\"protCNN\")"
      ],
      "execution_count": 8,
      "outputs": [
        {
          "output_type": "stream",
          "text": [
            "Epoch 1/50\n",
            "1717/1717 [==============================] - 60s 29ms/step - loss: 1.7024 - accuracy: 0.8206 - val_loss: 0.4313 - val_accuracy: 0.9836\n",
            "Epoch 2/50\n",
            "1717/1717 [==============================] - 51s 29ms/step - loss: 0.3898 - accuracy: 0.9837 - val_loss: 0.4212 - val_accuracy: 0.9836\n",
            "Epoch 3/50\n",
            "1717/1717 [==============================] - 50s 29ms/step - loss: 0.4034 - accuracy: 0.9833 - val_loss: 0.4408 - val_accuracy: 0.9847\n",
            "Epoch 4/50\n",
            "1717/1717 [==============================] - 50s 29ms/step - loss: 0.4024 - accuracy: 0.9850 - val_loss: 0.4240 - val_accuracy: 0.9868\n",
            "Epoch 5/50\n",
            "1717/1717 [==============================] - 50s 29ms/step - loss: 0.3956 - accuracy: 0.9855 - val_loss: 0.4125 - val_accuracy: 0.9865\n",
            "Epoch 6/50\n",
            "1717/1717 [==============================] - 50s 29ms/step - loss: 0.3855 - accuracy: 0.9861 - val_loss: 0.4165 - val_accuracy: 0.9851\n",
            "Epoch 7/50\n",
            "1717/1717 [==============================] - 50s 29ms/step - loss: 0.3736 - accuracy: 0.9870 - val_loss: 0.4132 - val_accuracy: 0.9867\n",
            "Epoch 8/50\n",
            "1717/1717 [==============================] - 51s 29ms/step - loss: 0.3699 - accuracy: 0.9876 - val_loss: 0.3959 - val_accuracy: 0.9876\n",
            "Epoch 9/50\n",
            "1717/1717 [==============================] - 50s 29ms/step - loss: 0.3673 - accuracy: 0.9871 - val_loss: 0.3949 - val_accuracy: 0.9875\n",
            "Epoch 10/50\n",
            "1717/1717 [==============================] - 50s 29ms/step - loss: 0.3613 - accuracy: 0.9875 - val_loss: 0.3930 - val_accuracy: 0.9868\n",
            "Epoch 11/50\n",
            "1717/1717 [==============================] - 50s 29ms/step - loss: 0.3599 - accuracy: 0.9876 - val_loss: 0.3846 - val_accuracy: 0.9876\n",
            "Epoch 12/50\n",
            "1717/1717 [==============================] - 50s 29ms/step - loss: 0.3562 - accuracy: 0.9877 - val_loss: 0.3806 - val_accuracy: 0.9880\n",
            "Epoch 13/50\n",
            "1717/1717 [==============================] - 50s 29ms/step - loss: 0.3525 - accuracy: 0.9879 - val_loss: 0.3886 - val_accuracy: 0.9866\n",
            "Epoch 14/50\n",
            "1717/1717 [==============================] - 49s 29ms/step - loss: 0.3539 - accuracy: 0.9881 - val_loss: 0.3839 - val_accuracy: 0.9872\n",
            "Epoch 15/50\n",
            "1717/1717 [==============================] - 49s 29ms/step - loss: 0.3515 - accuracy: 0.9882 - val_loss: 0.3882 - val_accuracy: 0.9862\n",
            "Epoch 16/50\n",
            "1717/1717 [==============================] - 49s 29ms/step - loss: 0.3475 - accuracy: 0.9883 - val_loss: 0.3872 - val_accuracy: 0.9885\n",
            "Epoch 17/50\n",
            "1717/1717 [==============================] - 49s 29ms/step - loss: 0.3519 - accuracy: 0.9886 - val_loss: 0.3809 - val_accuracy: 0.9881\n",
            "Epoch 18/50\n",
            "1717/1717 [==============================] - 49s 29ms/step - loss: 0.3504 - accuracy: 0.9879 - val_loss: 0.3774 - val_accuracy: 0.9881\n",
            "Epoch 19/50\n",
            "1717/1717 [==============================] - 49s 29ms/step - loss: 0.3529 - accuracy: 0.9878 - val_loss: 0.3785 - val_accuracy: 0.9884\n",
            "Epoch 20/50\n",
            "1717/1717 [==============================] - 49s 28ms/step - loss: 0.3512 - accuracy: 0.9880 - val_loss: 0.3755 - val_accuracy: 0.9884\n",
            "Epoch 21/50\n",
            "1717/1717 [==============================] - 49s 29ms/step - loss: 0.3472 - accuracy: 0.9884 - val_loss: 0.3838 - val_accuracy: 0.9873\n",
            "Epoch 22/50\n",
            "1717/1717 [==============================] - 49s 29ms/step - loss: 0.3490 - accuracy: 0.9888 - val_loss: 0.3820 - val_accuracy: 0.9880\n",
            "Epoch 23/50\n",
            "1717/1717 [==============================] - 49s 28ms/step - loss: 0.3475 - accuracy: 0.9888 - val_loss: 0.3805 - val_accuracy: 0.9879\n",
            "Epoch 24/50\n",
            "1717/1717 [==============================] - 49s 28ms/step - loss: 0.3482 - accuracy: 0.9884 - val_loss: 0.3762 - val_accuracy: 0.9883\n",
            "Epoch 25/50\n",
            "1717/1717 [==============================] - 49s 29ms/step - loss: 0.3460 - accuracy: 0.9887 - val_loss: 0.3790 - val_accuracy: 0.9880\n",
            "Epoch 26/50\n",
            "1717/1717 [==============================] - 49s 28ms/step - loss: 0.3472 - accuracy: 0.9887 - val_loss: 0.3724 - val_accuracy: 0.9885\n",
            "Epoch 27/50\n",
            "1717/1717 [==============================] - 49s 28ms/step - loss: 0.3455 - accuracy: 0.9885 - val_loss: 0.3696 - val_accuracy: 0.9899\n",
            "Epoch 28/50\n",
            "1717/1717 [==============================] - 49s 29ms/step - loss: 0.3421 - accuracy: 0.9890 - val_loss: 0.3753 - val_accuracy: 0.9896\n",
            "Epoch 29/50\n",
            "1717/1717 [==============================] - 49s 29ms/step - loss: 0.3497 - accuracy: 0.9884 - val_loss: 0.3741 - val_accuracy: 0.9880\n",
            "Epoch 30/50\n",
            "1717/1717 [==============================] - 49s 28ms/step - loss: 0.3421 - accuracy: 0.9890 - val_loss: 0.3816 - val_accuracy: 0.9881\n",
            "Epoch 31/50\n",
            "1717/1717 [==============================] - 49s 29ms/step - loss: 0.3439 - accuracy: 0.9892 - val_loss: 0.3828 - val_accuracy: 0.9872\n",
            "Epoch 32/50\n",
            "1717/1717 [==============================] - 49s 28ms/step - loss: 0.3436 - accuracy: 0.9888 - val_loss: 0.3868 - val_accuracy: 0.9873\n",
            "Epoch 33/50\n",
            "1717/1717 [==============================] - 49s 29ms/step - loss: 0.3453 - accuracy: 0.9892 - val_loss: 0.3718 - val_accuracy: 0.9897\n",
            "Epoch 34/50\n",
            "1717/1717 [==============================] - 49s 28ms/step - loss: 0.3463 - accuracy: 0.9890 - val_loss: 0.3713 - val_accuracy: 0.9892\n",
            "Epoch 35/50\n",
            "1717/1717 [==============================] - 49s 29ms/step - loss: 0.3453 - accuracy: 0.9886 - val_loss: 0.3766 - val_accuracy: 0.9891\n",
            "Epoch 36/50\n",
            "1717/1717 [==============================] - 49s 28ms/step - loss: 0.3474 - accuracy: 0.9887 - val_loss: 0.3773 - val_accuracy: 0.9883\n",
            "Epoch 37/50\n",
            "1717/1717 [==============================] - 49s 28ms/step - loss: 0.3481 - accuracy: 0.9884 - val_loss: 0.3774 - val_accuracy: 0.9873\n",
            "Epoch 00037: early stopping\n"
          ],
          "name": "stdout"
        }
      ]
    },
    {
      "cell_type": "code",
      "metadata": {
        "colab": {
          "base_uri": "https://localhost:8080/",
          "height": 503
        },
        "id": "hwbUfCcxExAB",
        "outputId": "c238a0c4-e749-43dc-ce7d-aa1676c02a6d"
      },
      "source": [
        "classifier.plot_accuracy_train_val(history2)"
      ],
      "execution_count": 10,
      "outputs": [
        {
          "output_type": "stream",
          "text": [
            "/usr/local/lib/python3.6/dist-packages/seaborn/_decorators.py:43: FutureWarning: Pass the following variables as keyword args: x, y. From version 0.12, the only valid positional argument will be `data`, and passing other arguments without an explicit keyword will result in an error or misinterpretation.\n",
            "  FutureWarning\n",
            "/usr/local/lib/python3.6/dist-packages/seaborn/_decorators.py:43: FutureWarning: Pass the following variables as keyword args: x, y. From version 0.12, the only valid positional argument will be `data`, and passing other arguments without an explicit keyword will result in an error or misinterpretation.\n",
            "  FutureWarning\n",
            "/usr/local/lib/python3.6/dist-packages/seaborn/_decorators.py:43: FutureWarning: Pass the following variables as keyword args: x, y. From version 0.12, the only valid positional argument will be `data`, and passing other arguments without an explicit keyword will result in an error or misinterpretation.\n",
            "  FutureWarning\n",
            "/usr/local/lib/python3.6/dist-packages/seaborn/_decorators.py:43: FutureWarning: Pass the following variables as keyword args: x, y. From version 0.12, the only valid positional argument will be `data`, and passing other arguments without an explicit keyword will result in an error or misinterpretation.\n",
            "  FutureWarning\n"
          ],
          "name": "stderr"
        },
        {
          "output_type": "display_data",
          "data": {
            "image/png": "[encoded data removed]",
            "text/plain": [
              "<Figure size 864x360 with 2 Axes>"
            ]
          },
          "metadata": {
            "tags": [],
            "needs_background": "light"
          }
        }
      ]
    },
    {
      "cell_type": "code",
      "metadata": {
        "colab": {
          "base_uri": "https://localhost:8080/"
        },
        "id": "zn_CwjeBmF8k",
        "outputId": "32450cca-1ea9-47e6-fa4f-14771e5958ab"
      },
      "source": [
        "y_test"
      ],
      "execution_count": 17,
      "outputs": [
        {
          "output_type": "execute_result",
          "data": {
            "text/plain": [
              "array([[0., 0., 0., ..., 0., 0., 0.],\n",
              "       [0., 0., 0., ..., 0., 0., 0.],\n",
              "       [0., 0., 0., ..., 0., 0., 0.],\n",
              "       ...,\n",
              "       [0., 0., 0., ..., 0., 0., 0.],\n",
              "       [0., 0., 0., ..., 0., 0., 0.],\n",
              "       [0., 0., 0., ..., 0., 0., 0.]], dtype=float32)"
            ]
          },
          "metadata": {
            "tags": []
          },
          "execution_count": 17
        }
      ]
    },
    {
      "cell_type": "code",
      "metadata": {
        "colab": {
          "base_uri": "https://localhost:8080/"
        },
        "id": "E9riZmHGbR8T",
        "outputId": "d74978de-8e4e-462f-bb3e-b53fc3b5b101"
      },
      "source": [
        "result=model2.evaluate(test_2,y_test)"
      ],
      "execution_count": 18,
      "outputs": [
        {
          "output_type": "stream",
          "text": [
            "1700/1700 [==============================] - 6s 4ms/step - loss: 0.3800 - accuracy: 0.9868\n"
          ],
          "name": "stdout"
        }
      ]
    },
    {
      "cell_type": "markdown",
      "metadata": {
        "id": "M2BHZ5oZr1Vf"
      },
      "source": [
        ""
      ]
    }
  ]
}