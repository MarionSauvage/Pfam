{
  "nbformat": 4,
  "nbformat_minor": 0,
  "metadata": {
    "accelerator": "GPU",
    "colab": {
      "name": "main.ipynb",
      "provenance": [],
      "collapsed_sections": []
    },
    "kernelspec": {
      "display_name": "Python 3",
      "language": "python",
      "name": "python3"
    },
    "language_info": {
      "codemirror_mode": {
        "name": "ipython",
        "version": 3
      },
      "file_extension": ".py",
      "mimetype": "text/x-python",
      "name": "python",
      "nbconvert_exporter": "python",
      "pygments_lexer": "ipython3",
      "version": "3.8.6-final"
    }
  },
  "cells": [
    {
      "cell_type": "markdown",
      "metadata": {
        "id": "TWgWqkA4r7uo"
      },
      "source": [
        "Connect to Google Drive\r\n"
      ]
    },
    {
      "cell_type": "code",
      "metadata": {
        "colab": {
          "base_uri": "https://localhost:8080/"
        },
        "id": "LZG2t4sKQqnP",
        "outputId": "257948f3-69e9-46ea-fd31-95d74cb5a48f"
      },
      "source": [
        "from google.colab import drive\r\n",
        "drive.mount('/content/drive')"
      ],
      "execution_count": 1,
      "outputs": [
        {
          "output_type": "stream",
          "text": [
            "Drive already mounted at /content/drive; to attempt to forcibly remount, call drive.mount(\"/content/drive\", force_remount=True).\n"
          ],
          "name": "stdout"
        }
      ]
    },
    {
      "cell_type": "code",
      "metadata": {
        "id": "Js98SD4HE5_g",
        "colab": {
          "base_uri": "https://localhost:8080/"
        },
        "outputId": "905affe9-77fb-4542-aeff-050c71c66b1b"
      },
      "source": [
        "cd drive/MyDrive/instadeep/InstaDeep/"
      ],
      "execution_count": 4,
      "outputs": [
        {
          "output_type": "stream",
          "text": [
            "/content/drive/MyDrive/instadeep/InstaDeep\n"
          ],
          "name": "stdout"
        }
      ]
    },
    {
      "cell_type": "markdown",
      "metadata": {
        "id": "OCbYtc1sEw_s"
      },
      "source": [
        "Packages import"
      ]
    },
    {
      "cell_type": "code",
      "metadata": {
        "id": "fJvMbgICEw_v"
      },
      "source": [
        "from data import features,get_dataset\n",
        "from model import classifier\n",
        "import tqdm\n",
        "import warnings\n",
        "warnings.simplefilter(action='ignore', category=FutureWarning)"
      ],
      "execution_count": 5,
      "outputs": []
    },
    {
      "cell_type": "markdown",
      "metadata": {
        "id": "LQ1PwNGMEw_x"
      },
      "source": [
        "GPU"
      ]
    },
    {
      "cell_type": "code",
      "metadata": {
        "colab": {
          "base_uri": "https://localhost:8080/"
        },
        "id": "ViIJ1sRkEw_y",
        "outputId": "b4f0abcf-a633-4d5d-cd6a-4866287fa43a"
      },
      "source": [
        "%tensorflow_version 2.x\n",
        "import tensorflow as tf\n",
        "device_name = tf.test.gpu_device_name()\n",
        "if device_name != '/device:GPU:0':\n",
        "  raise SystemError('GPU device not found')\n",
        "print('Found GPU at: {}'.format(device_name))"
      ],
      "execution_count": 6,
      "outputs": [
        {
          "output_type": "stream",
          "text": [
            "Found GPU at: /device:GPU:0\n"
          ],
          "name": "stdout"
        }
      ]
    },
    {
      "cell_type": "markdown",
      "metadata": {
        "id": "HwZDKbk8Ew_0"
      },
      "source": [
        "Data processing"
      ]
    },
    {
      "cell_type": "code",
      "metadata": {
        "colab": {
          "base_uri": "https://localhost:8080/"
        },
        "id": "pbBLFIS-Ew_1",
        "outputId": "bfd2bcf8-ba82-4c90-fbbb-2e4f3559411f"
      },
      "source": [
        "path=\"random_split/\"\n",
        "\n",
        "test,val,train =get_dataset.get_df(path)\n",
        "\n",
        "#Due to limitation of computing capacities, we will only consider the 1000 most important classes\n",
        "classes=features.get_classes_top1000(train)\n",
        "#apply those changes to train, test, val\n",
        "test=features.reduce_dataset_1000topclasses(test,classes)\n",
        "train=features.reduce_dataset_1000topclasses(train,classes)\n",
        "val=features.reduce_dataset_1000topclasses(val,classes)\n",
        "\n",
        "#Process inputs \n",
        "train_processed=features.process_dataset(train, classes)\n",
        "test_processed=features.process_dataset(test, classes)\n",
        "val_processed=features.process_dataset(val, classes)\n",
        "print(train_processed.shape)\n",
        "print(test_processed.shape)\n",
        "print(val_processed.shape)\n",
        "#Process labels\n",
        "y_train=features.process_labels(train,classes)\n",
        "y_test=features.process_labels(test,classes)\n",
        "y_val=features.process_labels(val,classes)\n",
        "print(y_train.shape)\n",
        "print(y_test.shape)\n",
        "print(y_val.shape)"
      ],
      "execution_count": 7,
      "outputs": [
        {
          "output_type": "stream",
          "text": [
            "(439493, 100)\n",
            "(54378, 100)\n",
            "(54378, 100)\n",
            "(439493, 1000)\n",
            "(54378, 1000)\n",
            "(54378, 1000)\n"
          ],
          "name": "stdout"
        }
      ]
    },
    {
      "cell_type": "markdown",
      "metadata": {
        "id": "7CmlM84PEw_2"
      },
      "source": [
        "Simple model : using LSTM"
      ]
    },
    {
      "cell_type": "code",
      "metadata": {
        "colab": {
          "base_uri": "https://localhost:8080/"
        },
        "id": "hccxbKTfEw_3",
        "outputId": "93038b6e-4f8a-447b-b15d-6ac47774d559"
      },
      "source": [
        "model=classifier.build_model()\n",
        "print(model.summary())"
      ],
      "execution_count": 8,
      "outputs": [
        {
          "output_type": "stream",
          "text": [
            "Model: \"sequential\"\n",
            "_________________________________________________________________\n",
            "Layer (type)                 Output Shape              Param #   \n",
            "=================================================================\n",
            "embedding (Embedding)        (None, 100, 100)          2100      \n",
            "_________________________________________________________________\n",
            "bidirectional (Bidirectional (None, 200)               160800    \n",
            "_________________________________________________________________\n",
            "dropout (Dropout)            (None, 200)               0         \n",
            "_________________________________________________________________\n",
            "dense (Dense)                (None, 1000)              201000    \n",
            "=================================================================\n",
            "Total params: 363,900\n",
            "Trainable params: 363,900\n",
            "Non-trainable params: 0\n",
            "_________________________________________________________________\n",
            "None\n"
          ],
          "name": "stdout"
        }
      ]
    },
    {
      "cell_type": "code",
      "metadata": {
        "colab": {
          "base_uri": "https://localhost:8080/"
        },
        "id": "8DXDw0qrEw_5",
        "outputId": "2da8ba78-0f6b-46ea-c9f8-3bfa9c5e5708"
      },
      "source": [
        "history=classifier.train_model(model,train_processed,y_train,val_processed,y_val,epochs=50)\n"
      ],
      "execution_count": 9,
      "outputs": [
        {
          "output_type": "stream",
          "text": [
            "Epoch 1/50\n",
            "1717/1717 [==============================] - 51s 27ms/step - loss: 7.3882 - accuracy: 0.0375 - val_loss: 3.8098 - val_accuracy: 0.2907\n",
            "Epoch 2/50\n",
            "1717/1717 [==============================] - 47s 27ms/step - loss: 3.4678 - accuracy: 0.3518 - val_loss: 1.9995 - val_accuracy: 0.6783\n",
            "Epoch 3/50\n",
            "1717/1717 [==============================] - 48s 28ms/step - loss: 2.1087 - accuracy: 0.6276 - val_loss: 1.3451 - val_accuracy: 0.8077\n",
            "Epoch 4/50\n",
            "1717/1717 [==============================] - 48s 28ms/step - loss: 1.6097 - accuracy: 0.7253 - val_loss: 1.0628 - val_accuracy: 0.8561\n",
            "Epoch 5/50\n",
            "1717/1717 [==============================] - 47s 28ms/step - loss: 1.3518 - accuracy: 0.7722 - val_loss: 0.8973 - val_accuracy: 0.8850\n",
            "Epoch 6/50\n",
            "1717/1717 [==============================] - 48s 28ms/step - loss: 1.1977 - accuracy: 0.8026 - val_loss: 0.7928 - val_accuracy: 0.9043\n",
            "Epoch 7/50\n",
            "1717/1717 [==============================] - 48s 28ms/step - loss: 1.0916 - accuracy: 0.8220 - val_loss: 0.7168 - val_accuracy: 0.9164\n",
            "Epoch 8/50\n",
            "1717/1717 [==============================] - 48s 28ms/step - loss: 1.0156 - accuracy: 0.8362 - val_loss: 0.6504 - val_accuracy: 0.9310\n",
            "Epoch 9/50\n",
            "1717/1717 [==============================] - 48s 28ms/step - loss: 0.9571 - accuracy: 0.8472 - val_loss: 0.6288 - val_accuracy: 0.9332\n",
            "Epoch 10/50\n",
            "1717/1717 [==============================] - 48s 28ms/step - loss: 0.9142 - accuracy: 0.8554 - val_loss: 0.5934 - val_accuracy: 0.9398\n",
            "Epoch 11/50\n",
            "1717/1717 [==============================] - 48s 28ms/step - loss: 0.8817 - accuracy: 0.8610 - val_loss: 0.5748 - val_accuracy: 0.9426\n",
            "Epoch 12/50\n",
            "1717/1717 [==============================] - 48s 28ms/step - loss: 0.8489 - accuracy: 0.8676 - val_loss: 0.5609 - val_accuracy: 0.9447\n",
            "Epoch 13/50\n",
            "1717/1717 [==============================] - 48s 28ms/step - loss: 0.8278 - accuracy: 0.8714 - val_loss: 0.5432 - val_accuracy: 0.9467\n",
            "Epoch 14/50\n",
            "1717/1717 [==============================] - 48s 28ms/step - loss: 0.8148 - accuracy: 0.8739 - val_loss: 0.5151 - val_accuracy: 0.9522\n",
            "Epoch 15/50\n",
            "1717/1717 [==============================] - 48s 28ms/step - loss: 0.7958 - accuracy: 0.8771 - val_loss: 0.5096 - val_accuracy: 0.9529\n",
            "Epoch 16/50\n",
            "1717/1717 [==============================] - 48s 28ms/step - loss: 0.7816 - accuracy: 0.8803 - val_loss: 0.4971 - val_accuracy: 0.9560\n",
            "Epoch 17/50\n",
            "1717/1717 [==============================] - 48s 28ms/step - loss: 0.7671 - accuracy: 0.8826 - val_loss: 0.4876 - val_accuracy: 0.9575\n",
            "Epoch 18/50\n",
            "1717/1717 [==============================] - 48s 28ms/step - loss: 0.7515 - accuracy: 0.8860 - val_loss: 0.4786 - val_accuracy: 0.9598\n",
            "Epoch 19/50\n",
            "1717/1717 [==============================] - 48s 28ms/step - loss: 0.7441 - accuracy: 0.8873 - val_loss: 0.4628 - val_accuracy: 0.9631\n",
            "Epoch 20/50\n",
            "1717/1717 [==============================] - 48s 28ms/step - loss: 0.7372 - accuracy: 0.8881 - val_loss: 0.4754 - val_accuracy: 0.9587\n",
            "Epoch 21/50\n",
            "1717/1717 [==============================] - 48s 28ms/step - loss: 0.7297 - accuracy: 0.8898 - val_loss: 0.4589 - val_accuracy: 0.9621\n",
            "Epoch 22/50\n",
            "1717/1717 [==============================] - 48s 28ms/step - loss: 0.7189 - accuracy: 0.8917 - val_loss: 0.4592 - val_accuracy: 0.9633\n",
            "Epoch 23/50\n",
            "1717/1717 [==============================] - 48s 28ms/step - loss: 0.7089 - accuracy: 0.8937 - val_loss: 0.4489 - val_accuracy: 0.9636\n",
            "Epoch 24/50\n",
            "1717/1717 [==============================] - 48s 28ms/step - loss: 0.7093 - accuracy: 0.8933 - val_loss: 0.4528 - val_accuracy: 0.9626\n",
            "Epoch 25/50\n",
            "1717/1717 [==============================] - 48s 28ms/step - loss: 0.7017 - accuracy: 0.8952 - val_loss: 0.4487 - val_accuracy: 0.9625\n",
            "Epoch 26/50\n",
            "1717/1717 [==============================] - 48s 28ms/step - loss: 0.6927 - accuracy: 0.8971 - val_loss: 0.4457 - val_accuracy: 0.9643\n",
            "Epoch 27/50\n",
            "1717/1717 [==============================] - 48s 28ms/step - loss: 0.6911 - accuracy: 0.8976 - val_loss: 0.4369 - val_accuracy: 0.9657\n",
            "Epoch 28/50\n",
            "1717/1717 [==============================] - 48s 28ms/step - loss: 0.6821 - accuracy: 0.8988 - val_loss: 0.4314 - val_accuracy: 0.9668\n",
            "Epoch 29/50\n",
            "1717/1717 [==============================] - 48s 28ms/step - loss: 0.6770 - accuracy: 0.8991 - val_loss: 0.4364 - val_accuracy: 0.9642\n",
            "Epoch 30/50\n",
            "1717/1717 [==============================] - 48s 28ms/step - loss: 0.6715 - accuracy: 0.9010 - val_loss: 0.4273 - val_accuracy: 0.9660\n",
            "Epoch 31/50\n",
            "1717/1717 [==============================] - 48s 28ms/step - loss: 0.6730 - accuracy: 0.9006 - val_loss: 0.4279 - val_accuracy: 0.9668\n",
            "Epoch 32/50\n",
            "1717/1717 [==============================] - 48s 28ms/step - loss: 0.6626 - accuracy: 0.9024 - val_loss: 0.4240 - val_accuracy: 0.9661\n",
            "Epoch 33/50\n",
            "1717/1717 [==============================] - 48s 28ms/step - loss: 0.6551 - accuracy: 0.9034 - val_loss: 0.4146 - val_accuracy: 0.9693\n",
            "Epoch 34/50\n",
            "1717/1717 [==============================] - 48s 28ms/step - loss: 0.6576 - accuracy: 0.9037 - val_loss: 0.4065 - val_accuracy: 0.9703\n",
            "Epoch 35/50\n",
            "1717/1717 [==============================] - 48s 28ms/step - loss: 0.6510 - accuracy: 0.9045 - val_loss: 0.4116 - val_accuracy: 0.9685\n",
            "Epoch 36/50\n",
            "1717/1717 [==============================] - 48s 28ms/step - loss: 0.6459 - accuracy: 0.9052 - val_loss: 0.4119 - val_accuracy: 0.9688\n",
            "Epoch 37/50\n",
            "1717/1717 [==============================] - 48s 28ms/step - loss: 0.6414 - accuracy: 0.9062 - val_loss: 0.4053 - val_accuracy: 0.9693\n",
            "Epoch 38/50\n",
            "1717/1717 [==============================] - 48s 28ms/step - loss: 0.6360 - accuracy: 0.9072 - val_loss: 0.4135 - val_accuracy: 0.9674\n",
            "Epoch 39/50\n",
            "1717/1717 [==============================] - 48s 28ms/step - loss: 0.6400 - accuracy: 0.9062 - val_loss: 0.3988 - val_accuracy: 0.9699\n",
            "Epoch 40/50\n",
            "1717/1717 [==============================] - 48s 28ms/step - loss: 0.6323 - accuracy: 0.9074 - val_loss: 0.3994 - val_accuracy: 0.9696\n",
            "Epoch 41/50\n",
            "1717/1717 [==============================] - 48s 28ms/step - loss: 0.6297 - accuracy: 0.9084 - val_loss: 0.4016 - val_accuracy: 0.9690\n",
            "Epoch 42/50\n",
            "1717/1717 [==============================] - 48s 28ms/step - loss: 0.6214 - accuracy: 0.9093 - val_loss: 0.3952 - val_accuracy: 0.9704\n",
            "Epoch 43/50\n",
            "1717/1717 [==============================] - 48s 28ms/step - loss: 0.6155 - accuracy: 0.9105 - val_loss: 0.3941 - val_accuracy: 0.9711\n",
            "Epoch 44/50\n",
            "1717/1717 [==============================] - 48s 28ms/step - loss: 0.6166 - accuracy: 0.9100 - val_loss: 0.3949 - val_accuracy: 0.9700\n",
            "Epoch 45/50\n",
            "1717/1717 [==============================] - 48s 28ms/step - loss: 0.6157 - accuracy: 0.9108 - val_loss: 0.3890 - val_accuracy: 0.9722\n",
            "Epoch 46/50\n",
            "1717/1717 [==============================] - 48s 28ms/step - loss: 0.6115 - accuracy: 0.9118 - val_loss: 0.3862 - val_accuracy: 0.9728\n",
            "Epoch 47/50\n",
            "1717/1717 [==============================] - 48s 28ms/step - loss: 0.6089 - accuracy: 0.9118 - val_loss: 0.3834 - val_accuracy: 0.9723\n",
            "Epoch 48/50\n",
            "1717/1717 [==============================] - 48s 28ms/step - loss: 0.6088 - accuracy: 0.9117 - val_loss: 0.3871 - val_accuracy: 0.9717\n",
            "Epoch 49/50\n",
            "1717/1717 [==============================] - 48s 28ms/step - loss: 0.6028 - accuracy: 0.9126 - val_loss: 0.3880 - val_accuracy: 0.9713\n",
            "Epoch 50/50\n",
            "1717/1717 [==============================] - 48s 28ms/step - loss: 0.5966 - accuracy: 0.9138 - val_loss: 0.3774 - val_accuracy: 0.9729\n"
          ],
          "name": "stdout"
        }
      ]
    },
    {
      "cell_type": "code",
      "metadata": {
        "id": "d0mgiGzIJEWm",
        "colab": {
          "base_uri": "https://localhost:8080/",
          "height": 336
        },
        "outputId": "d4f31df3-903b-4882-be1c-06d27bee78cf"
      },
      "source": [
        "classifier.plot_accuracy_train_val(history)"
      ],
      "execution_count": 10,
      "outputs": [
        {
          "output_type": "display_data",
          "data": {
            "image/png": "[encoded data removed]",
            "text/plain": [
              "<Figure size 864x360 with 2 Axes>"
            ]
          },
          "metadata": {
            "tags": [],
            "needs_background": "light"
          }
        }
      ]
    },
    {
      "cell_type": "code",
      "metadata": {
        "id": "XKIieuKVPz1r",
        "colab": {
          "base_uri": "https://localhost:8080/"
        },
        "outputId": "097ee4df-b9c6-4f33-89f3-2c192272df61"
      },
      "source": [
        "result=model.evaluate(test_processed,y_test)"
      ],
      "execution_count": 11,
      "outputs": [
        {
          "output_type": "stream",
          "text": [
            "1700/1700 [==============================] - 11s 6ms/step - loss: 0.3789 - accuracy: 0.9731\n"
          ],
          "name": "stdout"
        }
      ]
    },
    {
      "cell_type": "markdown",
      "metadata": {
        "id": "B8C-wSvCEw_6"
      },
      "source": [
        "ProtCNN"
      ]
    },
    {
      "cell_type": "code",
      "metadata": {
        "id": "7OdLl8ChEw_8"
      },
      "source": [
        "#additional preprocessing \n",
        "train_2=features.additional_process(train_processed)\n",
        "val_2=features.additional_process(val_processed)\n",
        "test_2=features.additional_process(test_processed)\n"
      ],
      "execution_count": 12,
      "outputs": []
    },
    {
      "cell_type": "code",
      "metadata": {
        "id": "WdnziufEEw__",
        "colab": {
          "base_uri": "https://localhost:8080/"
        },
        "outputId": "3df0a261-5133-4805-cb2a-bf380631843a"
      },
      "source": [
        "model2=classifier.protccn_model(input_shape=train_2.shape)\n",
        "print(model2.summary())"
      ],
      "execution_count": 13,
      "outputs": [
        {
          "output_type": "stream",
          "text": [
            "Model: \"sequential_1\"\n",
            "_________________________________________________________________\n",
            "Layer (type)                 Output Shape              Param #   \n",
            "=================================================================\n",
            "conv1d (Conv1D)              (439493, 100, 128)        2816      \n",
            "_________________________________________________________________\n",
            "sequential_2 (Sequential)    (439493, 100, 128)        66816     \n",
            "_________________________________________________________________\n",
            "sequential_3 (Sequential)    (439493, 100, 128)        66816     \n",
            "_________________________________________________________________\n",
            "max_pooling1d (MaxPooling1D) (439493, 33, 128)         0         \n",
            "_________________________________________________________________\n",
            "dropout_1 (Dropout)          (439493, 33, 128)         0         \n",
            "_________________________________________________________________\n",
            "flatten (Flatten)            (439493, 4224)            0         \n",
            "_________________________________________________________________\n",
            "dense_1 (Dense)              (439493, 1000)            4225000   \n",
            "=================================================================\n",
            "Total params: 4,361,448\n",
            "Trainable params: 4,360,424\n",
            "Non-trainable params: 1,024\n",
            "_________________________________________________________________\n",
            "None\n"
          ],
          "name": "stdout"
        }
      ]
    },
    {
      "cell_type": "code",
      "metadata": {
        "id": "vKwNPgKDExAA",
        "colab": {
          "base_uri": "https://localhost:8080/"
        },
        "outputId": "34b532d9-75d4-423a-d6a4-4ca8a8ad5a9e"
      },
      "source": [
        "history2=classifier.train_model(model2,train_2,y_train,val_2,y_val,epochs=50,model_name=\"protCNN\")"
      ],
      "execution_count": 14,
      "outputs": [
        {
          "output_type": "stream",
          "text": [
            "Epoch 1/50\n",
            "1717/1717 [==============================] - 55s 30ms/step - loss: 1.6823 - accuracy: 0.8236 - val_loss: 0.4264 - val_accuracy: 0.9850\n",
            "Epoch 2/50\n",
            "1717/1717 [==============================] - 50s 29ms/step - loss: 0.3925 - accuracy: 0.9832 - val_loss: 0.4327 - val_accuracy: 0.9838\n",
            "Epoch 3/50\n",
            "1717/1717 [==============================] - 51s 29ms/step - loss: 0.4025 - accuracy: 0.9838 - val_loss: 0.4305 - val_accuracy: 0.9850\n",
            "Epoch 4/50\n",
            "1717/1717 [==============================] - 50s 29ms/step - loss: 0.4012 - accuracy: 0.9846 - val_loss: 0.4348 - val_accuracy: 0.9832\n",
            "Epoch 5/50\n",
            "1717/1717 [==============================] - 50s 29ms/step - loss: 0.3934 - accuracy: 0.9854 - val_loss: 0.4258 - val_accuracy: 0.9857\n",
            "Epoch 6/50\n",
            "1717/1717 [==============================] - 51s 29ms/step - loss: 0.3890 - accuracy: 0.9859 - val_loss: 0.4081 - val_accuracy: 0.9856\n",
            "Epoch 7/50\n",
            "1717/1717 [==============================] - 51s 29ms/step - loss: 0.3770 - accuracy: 0.9863 - val_loss: 0.4146 - val_accuracy: 0.9857\n",
            "Epoch 8/50\n",
            "1717/1717 [==============================] - 50s 29ms/step - loss: 0.3748 - accuracy: 0.9868 - val_loss: 0.4021 - val_accuracy: 0.9871\n",
            "Epoch 9/50\n",
            "1717/1717 [==============================] - 50s 29ms/step - loss: 0.3719 - accuracy: 0.9868 - val_loss: 0.3980 - val_accuracy: 0.9869\n",
            "Epoch 10/50\n",
            "1717/1717 [==============================] - 50s 29ms/step - loss: 0.3611 - accuracy: 0.9875 - val_loss: 0.3964 - val_accuracy: 0.9861\n",
            "Epoch 11/50\n",
            "1717/1717 [==============================] - 50s 29ms/step - loss: 0.3623 - accuracy: 0.9872 - val_loss: 0.3919 - val_accuracy: 0.9879\n",
            "Epoch 12/50\n",
            "1717/1717 [==============================] - 50s 29ms/step - loss: 0.3562 - accuracy: 0.9881 - val_loss: 0.3860 - val_accuracy: 0.9879\n",
            "Epoch 13/50\n",
            "1717/1717 [==============================] - 50s 29ms/step - loss: 0.3546 - accuracy: 0.9881 - val_loss: 0.3818 - val_accuracy: 0.9881\n",
            "Epoch 14/50\n",
            "1717/1717 [==============================] - 50s 29ms/step - loss: 0.3551 - accuracy: 0.9877 - val_loss: 0.3872 - val_accuracy: 0.9882\n",
            "Epoch 15/50\n",
            "1717/1717 [==============================] - 50s 29ms/step - loss: 0.3521 - accuracy: 0.9886 - val_loss: 0.3804 - val_accuracy: 0.9871\n",
            "Epoch 16/50\n",
            "1717/1717 [==============================] - 50s 29ms/step - loss: 0.3489 - accuracy: 0.9880 - val_loss: 0.3829 - val_accuracy: 0.9877\n",
            "Epoch 17/50\n",
            "1717/1717 [==============================] - 49s 29ms/step - loss: 0.3462 - accuracy: 0.9886 - val_loss: 0.3798 - val_accuracy: 0.9879\n",
            "Epoch 18/50\n",
            "1717/1717 [==============================] - 49s 29ms/step - loss: 0.3492 - accuracy: 0.9883 - val_loss: 0.3794 - val_accuracy: 0.9889\n",
            "Epoch 19/50\n",
            "1717/1717 [==============================] - 50s 29ms/step - loss: 0.3504 - accuracy: 0.9882 - val_loss: 0.3836 - val_accuracy: 0.9875\n",
            "Epoch 20/50\n",
            "1717/1717 [==============================] - 50s 29ms/step - loss: 0.3474 - accuracy: 0.9882 - val_loss: 0.3750 - val_accuracy: 0.9881\n",
            "Epoch 21/50\n",
            "1717/1717 [==============================] - 50s 29ms/step - loss: 0.3485 - accuracy: 0.9882 - val_loss: 0.3753 - val_accuracy: 0.9880\n",
            "Epoch 22/50\n",
            "1717/1717 [==============================] - 50s 29ms/step - loss: 0.3502 - accuracy: 0.9881 - val_loss: 0.3795 - val_accuracy: 0.9885\n",
            "Epoch 23/50\n",
            "1717/1717 [==============================] - 50s 29ms/step - loss: 0.3430 - accuracy: 0.9890 - val_loss: 0.3737 - val_accuracy: 0.9876\n",
            "Epoch 24/50\n",
            "1717/1717 [==============================] - 49s 29ms/step - loss: 0.3488 - accuracy: 0.9879 - val_loss: 0.3788 - val_accuracy: 0.9889\n",
            "Epoch 25/50\n",
            "1717/1717 [==============================] - 49s 29ms/step - loss: 0.3438 - accuracy: 0.9893 - val_loss: 0.3744 - val_accuracy: 0.9889\n",
            "Epoch 26/50\n",
            "1717/1717 [==============================] - 49s 29ms/step - loss: 0.3483 - accuracy: 0.9882 - val_loss: 0.3868 - val_accuracy: 0.9859\n",
            "Epoch 27/50\n",
            "1717/1717 [==============================] - 49s 29ms/step - loss: 0.3441 - accuracy: 0.9887 - val_loss: 0.3790 - val_accuracy: 0.9879\n",
            "Epoch 28/50\n",
            "1717/1717 [==============================] - 49s 29ms/step - loss: 0.3440 - accuracy: 0.9890 - val_loss: 0.3822 - val_accuracy: 0.9867\n",
            "Epoch 00028: early stopping\n"
          ],
          "name": "stdout"
        }
      ]
    },
    {
      "cell_type": "code",
      "metadata": {
        "id": "hwbUfCcxExAB",
        "colab": {
          "base_uri": "https://localhost:8080/",
          "height": 336
        },
        "outputId": "65187a38-e792-4e16-cf3a-d71018d81745"
      },
      "source": [
        "classifier.plot_accuracy_train_val(history2)"
      ],
      "execution_count": 15,
      "outputs": [
        {
          "output_type": "display_data",
          "data": {
            "image/png": "[encoded data removed]",
            "text/plain": [
              "<Figure size 864x360 with 2 Axes>"
            ]
          },
          "metadata": {
            "tags": [],
            "needs_background": "light"
          }
        }
      ]
    },
    {
      "cell_type": "code",
      "metadata": {
        "id": "E9riZmHGbR8T",
        "colab": {
          "base_uri": "https://localhost:8080/"
        },
        "outputId": "8c272986-4e8a-4280-d998-61f0e450781c"
      },
      "source": [
        "result=model2.evaluate(test_2,y_test)"
      ],
      "execution_count": 16,
      "outputs": [
        {
          "output_type": "stream",
          "text": [
            "1700/1700 [==============================] - 6s 3ms/step - loss: 0.3852 - accuracy: 0.9868\n"
          ],
          "name": "stdout"
        }
      ]
    }
  ]
}